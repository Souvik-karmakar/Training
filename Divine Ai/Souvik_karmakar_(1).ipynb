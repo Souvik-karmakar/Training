{
  "nbformat": 4,
  "nbformat_minor": 0,
  "metadata": {
    "colab": {
      "name": "Souvik_karmakar (1).ipynb",
      "provenance": [],
      "collapsed_sections": [],
      "include_colab_link": true
    },
    "kernelspec": {
      "name": "python3",
      "display_name": "Python 3"
    }
  },
  "cells": [
    {
      "cell_type": "markdown",
      "metadata": {
        "id": "view-in-github",
        "colab_type": "text"
      },
      "source": [
        "<a href=\"https://colab.research.google.com/github/Souvik5120/Training/blob/main/Divine%20Ai/Souvik_karmakar_(1).ipynb\" target=\"_parent\"><img src=\"https://colab.research.google.com/assets/colab-badge.svg\" alt=\"Open In Colab\"/></a>"
      ]
    },
    {
      "cell_type": "markdown",
      "metadata": {
        "id": "eHOwKQus-rqM"
      },
      "source": [
        "KNN MODEL"
      ]
    },
    {
      "cell_type": "markdown",
      "metadata": {
        "id": "sF4WsRtCzsop"
      },
      "source": [
        "Importing Libaries"
      ]
    },
    {
      "cell_type": "code",
      "metadata": {
        "id": "OqEbGk5ay6VB"
      },
      "source": [
        "import pandas as pd\n",
        "import numpy as np"
      ],
      "execution_count": null,
      "outputs": []
    },
    {
      "cell_type": "markdown",
      "metadata": {
        "id": "VXHJMuqy0KOX"
      },
      "source": [
        "Exploring The data\n"
      ]
    },
    {
      "cell_type": "code",
      "metadata": {
        "id": "_-h_-ml90RTF"
      },
      "source": [
        "from sklearn.datasets import load_iris\n",
        "iris_dataset = load_iris()"
      ],
      "execution_count": null,
      "outputs": []
    },
    {
      "cell_type": "markdown",
      "metadata": {
        "id": "ei5VidFI0f-U"
      },
      "source": [
        "Keys\n"
      ]
    },
    {
      "cell_type": "code",
      "metadata": {
        "colab": {
          "base_uri": "https://localhost:8080/"
        },
        "id": "6c5Tly-80nCc",
        "outputId": "6751ee25-0883-4493-c983-4da5e5637f13"
      },
      "source": [
        "print(\"keys of iris_dataset: \\n{}\".format(iris_dataset.keys()))"
      ],
      "execution_count": null,
      "outputs": [
        {
          "output_type": "stream",
          "text": [
            "keys of iris_dataset: \n",
            "dict_keys(['data', 'target', 'target_names', 'DESCR', 'feature_names', 'filename'])\n"
          ],
          "name": "stdout"
        }
      ]
    },
    {
      "cell_type": "markdown",
      "metadata": {
        "id": "IZde4c9i08mf"
      },
      "source": [
        "Description"
      ]
    },
    {
      "cell_type": "code",
      "metadata": {
        "colab": {
          "base_uri": "https://localhost:8080/"
        },
        "id": "ASJAbcAd0_cq",
        "outputId": "d80f191e-7f24-49ef-ae17-028f55dcc811"
      },
      "source": [
        "print(iris_dataset['DESCR'][:193] + \"\\n...\")"
      ],
      "execution_count": null,
      "outputs": [
        {
          "output_type": "stream",
          "text": [
            ".. _iris_dataset:\n",
            "\n",
            "Iris plants dataset\n",
            "--------------------\n",
            "\n",
            "**Data Set Characteristics:**\n",
            "\n",
            "    :Number of Instances: 150 (50 in each of three classes)\n",
            "    :Number of Attributes: 4 numeric, pre\n",
            "...\n"
          ],
          "name": "stdout"
        }
      ]
    },
    {
      "cell_type": "markdown",
      "metadata": {
        "id": "eBCgdA_81h8D"
      },
      "source": [
        "Target Names\n"
      ]
    },
    {
      "cell_type": "code",
      "metadata": {
        "colab": {
          "base_uri": "https://localhost:8080/"
        },
        "id": "s4KwZSbD15kh",
        "outputId": "5b8470c0-3b71-4437-ab82-adfe518dee1d"
      },
      "source": [
        "print(\"Target names: {}\".format(iris_dataset['target_names']))"
      ],
      "execution_count": null,
      "outputs": [
        {
          "output_type": "stream",
          "text": [
            "Target names: ['setosa' 'versicolor' 'virginica']\n"
          ],
          "name": "stdout"
        }
      ]
    },
    {
      "cell_type": "markdown",
      "metadata": {
        "id": "NiDceEmQ2QCT"
      },
      "source": [
        "Feature Names"
      ]
    },
    {
      "cell_type": "code",
      "metadata": {
        "colab": {
          "base_uri": "https://localhost:8080/"
        },
        "id": "FLZbpukI2ToM",
        "outputId": "0664a319-4817-46f0-a760-34bf0d6471b7"
      },
      "source": [
        "print(\"feature names: \\n{}\".format(iris_dataset['feature_names']))"
      ],
      "execution_count": null,
      "outputs": [
        {
          "output_type": "stream",
          "text": [
            "feature names: \n",
            "['sepal length (cm)', 'sepal width (cm)', 'petal length (cm)', 'petal width (cm)']\n"
          ],
          "name": "stdout"
        }
      ]
    },
    {
      "cell_type": "markdown",
      "metadata": {
        "id": "va4A_AKm24o9"
      },
      "source": [
        "Type of data"
      ]
    },
    {
      "cell_type": "code",
      "metadata": {
        "colab": {
          "base_uri": "https://localhost:8080/"
        },
        "id": "d1jzYfb226l8",
        "outputId": "fb57c804-cfed-41a8-fcb8-bcb4598f45e7"
      },
      "source": [
        "print(\"Type of data: {}\".format(type(iris_dataset['data'])))"
      ],
      "execution_count": null,
      "outputs": [
        {
          "output_type": "stream",
          "text": [
            "Type of data: <class 'numpy.ndarray'>\n"
          ],
          "name": "stdout"
        }
      ]
    },
    {
      "cell_type": "markdown",
      "metadata": {
        "id": "h_T6Xliy3OIv"
      },
      "source": [
        "Shape of data\n"
      ]
    },
    {
      "cell_type": "code",
      "metadata": {
        "colab": {
          "base_uri": "https://localhost:8080/"
        },
        "id": "Re84nnfq3QvT",
        "outputId": "6a9e3d11-e1da-43fc-9180-7974f8317f18"
      },
      "source": [
        "print(\"Shape of data: {}\".format(iris_dataset['data'].shape))"
      ],
      "execution_count": null,
      "outputs": [
        {
          "output_type": "stream",
          "text": [
            "Shape of data: (150, 4)\n"
          ],
          "name": "stdout"
        }
      ]
    },
    {
      "cell_type": "markdown",
      "metadata": {
        "id": "NKaoiRV83jXq"
      },
      "source": [
        "First five coloumn of data"
      ]
    },
    {
      "cell_type": "code",
      "metadata": {
        "colab": {
          "base_uri": "https://localhost:8080/"
        },
        "id": "cCOvK7oL3n6p",
        "outputId": "105dc305-3a93-4958-83dd-0d488ffec57a"
      },
      "source": [
        "print(\"First five rows of data:\\n{}\".format(iris_dataset['data'][:5]))"
      ],
      "execution_count": null,
      "outputs": [
        {
          "output_type": "stream",
          "text": [
            "First five rows of data:\n",
            "[[5.1 3.5 1.4 0.2]\n",
            " [4.9 3.  1.4 0.2]\n",
            " [4.7 3.2 1.3 0.2]\n",
            " [4.6 3.1 1.5 0.2]\n",
            " [5.  3.6 1.4 0.2]]\n"
          ],
          "name": "stdout"
        }
      ]
    },
    {
      "cell_type": "markdown",
      "metadata": {
        "id": "e-mlGqyc4BOO"
      },
      "source": [
        "Type of target"
      ]
    },
    {
      "cell_type": "code",
      "metadata": {
        "colab": {
          "base_uri": "https://localhost:8080/"
        },
        "id": "ypxslhTZ4Xja",
        "outputId": "cc400bfa-b95d-497f-ae45-65a3df5d6a45"
      },
      "source": [
        "print(\"Type of target: {}\".format(type(iris_dataset['target'])))"
      ],
      "execution_count": null,
      "outputs": [
        {
          "output_type": "stream",
          "text": [
            "Type of target: <class 'numpy.ndarray'>\n"
          ],
          "name": "stdout"
        }
      ]
    },
    {
      "cell_type": "markdown",
      "metadata": {
        "id": "wWc2mKQg4gPv"
      },
      "source": [
        "Shape of Target"
      ]
    },
    {
      "cell_type": "code",
      "metadata": {
        "colab": {
          "base_uri": "https://localhost:8080/"
        },
        "id": "vNxNkm4q4lrA",
        "outputId": "24c52406-a958-440a-8cdf-1d8b3eea6180"
      },
      "source": [
        "print(\"Shape of target: {}\".format(iris_dataset['target'].shape))"
      ],
      "execution_count": null,
      "outputs": [
        {
          "output_type": "stream",
          "text": [
            "Shape of target: (150,)\n"
          ],
          "name": "stdout"
        }
      ]
    },
    {
      "cell_type": "markdown",
      "metadata": {
        "id": "qTU4ff_M4wNR"
      },
      "source": [
        "Targets(0 to 2)0-setosa,1-versicolor,2-virginica"
      ]
    },
    {
      "cell_type": "code",
      "metadata": {
        "colab": {
          "base_uri": "https://localhost:8080/"
        },
        "id": "Yk0pABkJ40E6",
        "outputId": "6acb14b9-0526-4696-98cf-c9d9df72bc69"
      },
      "source": [
        "print(\"Target:\\n{}\".format(iris_dataset['target']))"
      ],
      "execution_count": null,
      "outputs": [
        {
          "output_type": "stream",
          "text": [
            "Target:\n",
            "[0 0 0 0 0 0 0 0 0 0 0 0 0 0 0 0 0 0 0 0 0 0 0 0 0 0 0 0 0 0 0 0 0 0 0 0 0\n",
            " 0 0 0 0 0 0 0 0 0 0 0 0 0 1 1 1 1 1 1 1 1 1 1 1 1 1 1 1 1 1 1 1 1 1 1 1 1\n",
            " 1 1 1 1 1 1 1 1 1 1 1 1 1 1 1 1 1 1 1 1 1 1 1 1 1 1 2 2 2 2 2 2 2 2 2 2 2\n",
            " 2 2 2 2 2 2 2 2 2 2 2 2 2 2 2 2 2 2 2 2 2 2 2 2 2 2 2 2 2 2 2 2 2 2 2 2 2\n",
            " 2 2]\n"
          ],
          "name": "stdout"
        }
      ]
    },
    {
      "cell_type": "markdown",
      "metadata": {
        "id": "r6bHvAv45CjZ"
      },
      "source": [
        "Training and testing"
      ]
    },
    {
      "cell_type": "code",
      "metadata": {
        "id": "XWacdQqHpsIh"
      },
      "source": [
        "from sklearn.model_selection import train_test_split\n",
        "X_train, X_test, Y_train, Y_test = train_test_split(iris_dataset['data'], iris_dataset['target'], random_state=0)"
      ],
      "execution_count": null,
      "outputs": []
    },
    {
      "cell_type": "code",
      "metadata": {
        "id": "Ux01bgl4qQVO",
        "colab": {
          "base_uri": "https://localhost:8080/"
        },
        "outputId": "dcfbed2c-9bf9-437b-9cde-74bc46273324"
      },
      "source": [
        "print(\"X_train.shape: {}\".format(X_train.shape))\n",
        "print(\"Y_train.shape: {}\".format(Y_train.shape))\n",
        "print(\"X_test.shape: {}\".format(X_test.shape))\n",
        "print(\"Y_test.shape: {}\".format(Y_test.shape))\n"
      ],
      "execution_count": null,
      "outputs": [
        {
          "output_type": "stream",
          "text": [
            "X_train.shape: (112, 4)\n",
            "Y_train.shape: (112,)\n",
            "X_test.shape: (38, 4)\n",
            "Y_test.shape: (38,)\n"
          ],
          "name": "stdout"
        }
      ]
    },
    {
      "cell_type": "markdown",
      "metadata": {
        "id": "DvL2fof17KDs"
      },
      "source": [
        "Model(Inspecting the data)"
      ]
    },
    {
      "cell_type": "code",
      "metadata": {
        "id": "aKmbZNvi7RDl"
      },
      "source": [
        "from sklearn.neighbors import KNeighborsClassifier\n",
        "knn = KNeighborsClassifier(n_neighbors=1)"
      ],
      "execution_count": null,
      "outputs": []
    },
    {
      "cell_type": "code",
      "metadata": {
        "colab": {
          "base_uri": "https://localhost:8080/"
        },
        "id": "6bl91NI97u2X",
        "outputId": "4570ef66-0ff3-46f7-cd2d-7960573d1db3"
      },
      "source": [
        "knn.fit(X_train, Y_train)"
      ],
      "execution_count": null,
      "outputs": [
        {
          "output_type": "execute_result",
          "data": {
            "text/plain": [
              "KNeighborsClassifier(algorithm='auto', leaf_size=30, metric='minkowski',\n",
              "                     metric_params=None, n_jobs=None, n_neighbors=1, p=2,\n",
              "                     weights='uniform')"
            ]
          },
          "metadata": {
            "tags": []
          },
          "execution_count": 19
        }
      ]
    },
    {
      "cell_type": "markdown",
      "metadata": {
        "id": "biScoQn676vC"
      },
      "source": [
        "Making Prediction"
      ]
    },
    {
      "cell_type": "code",
      "metadata": {
        "colab": {
          "base_uri": "https://localhost:8080/"
        },
        "id": "4K-uEvzS79XH",
        "outputId": "1ec776b0-e633-450c-8a55-ca3b7b35be08"
      },
      "source": [
        "X_new = np.array([[5, 2.9, 1, 0.2]])\n",
        "\n",
        "print(\"X_new.shape: {}\".format(X_new.shape))\n",
        "\n",
        "X_new.shape: (1, 4)"
      ],
      "execution_count": null,
      "outputs": [
        {
          "output_type": "stream",
          "text": [
            "X_new.shape: (1, 4)\n"
          ],
          "name": "stdout"
        }
      ]
    },
    {
      "cell_type": "markdown",
      "metadata": {
        "id": "_zJLiUn08bmd"
      },
      "source": [
        "Prediction"
      ]
    },
    {
      "cell_type": "code",
      "metadata": {
        "colab": {
          "base_uri": "https://localhost:8080/"
        },
        "id": "qors0LFX8dZe",
        "outputId": "1ef8777b-0f63-4c5a-f441-41f63b8c9855"
      },
      "source": [
        "prediction = knn.predict(X_new)\n",
        "print(\"Prediction: {}\".format(prediction))\n",
        "print(\"Predicted target name: {}\".format(iris_dataset['target_names'][prediction]))\n"
      ],
      "execution_count": null,
      "outputs": [
        {
          "output_type": "stream",
          "text": [
            "Prediction: [0]\n",
            "Predicted target name: ['setosa']\n"
          ],
          "name": "stdout"
        }
      ]
    },
    {
      "cell_type": "markdown",
      "metadata": {
        "id": "rrTZn-lk9skn"
      },
      "source": [
        "Evaluating the model"
      ]
    },
    {
      "cell_type": "code",
      "metadata": {
        "colab": {
          "base_uri": "https://localhost:8080/"
        },
        "id": "CC9CWQYK9vWt",
        "outputId": "a7f93c8c-f638-4db9-d0d9-3d3a46651042"
      },
      "source": [
        "y_pred = knn.predict(X_test)\n",
        "print(\"test set prediction: \\n {}\".format(y_pred))"
      ],
      "execution_count": null,
      "outputs": [
        {
          "output_type": "stream",
          "text": [
            "test set prediction: \n",
            " [2 1 0 2 0 2 0 1 1 1 2 1 1 1 1 0 1 1 0 0 2 1 0 0 2 0 0 1 1 0 2 1 0 2 2 1 0\n",
            " 2]\n"
          ],
          "name": "stdout"
        }
      ]
    },
    {
      "cell_type": "markdown",
      "metadata": {
        "id": "FtQVHd9q-MTK"
      },
      "source": [
        "Test set score"
      ]
    },
    {
      "cell_type": "code",
      "metadata": {
        "colab": {
          "base_uri": "https://localhost:8080/"
        },
        "id": "Z0eoFhnD-OnD",
        "outputId": "52ea48ef-c75a-4483-8d80-40fc32957c8f"
      },
      "source": [
        "print(\"Test set score: {}\".format(np.mean(y_pred == Y_test)))"
      ],
      "execution_count": null,
      "outputs": [
        {
          "output_type": "stream",
          "text": [
            "Test set score: 0.9736842105263158\n"
          ],
          "name": "stdout"
        }
      ]
    }
  ]
}